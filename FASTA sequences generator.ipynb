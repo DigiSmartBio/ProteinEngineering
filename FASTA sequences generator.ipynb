{
 "cells": [
  {
   "cell_type": "code",
   "execution_count": null,
   "metadata": {},
   "outputs": [],
   "source": [
    "from biopandas.pdb import PandasPdb\n",
    "import matplotlib.pyplot as plt\n",
    "import pandas as pd\n",
    "import numpy as np\n",
    "import os\n"
   ]
  },
  {
   "cell_type": "code",
   "execution_count": null,
   "metadata": {},
   "outputs": [],
   "source": [
    "#This will make a list with the names of the directories in your path. As it has been written in the codes below, this will correspond to the graph title \n",
    "root = r\"C:\\Users\\venan\\Desktop\\PDB\"\n",
    "fileList = []\n",
    "for root, dirs, files in os.walk(root):\n",
    "    for file in files: \n",
    "            fileList.append(file)\n",
    "fileList.sort(key=len)\n",
    "import glob, os\n",
    "list_names = []\n",
    "os.chdir(r\"C:\\Users\\venan\\Desktop\\PDBs\")\n",
    "for file in glob.glob(\"*.pdb\"):\n",
    "    list_names.append(file)\n",
    "    list_names.sort(key=len)\n",
    "len(list_names)"
   ]
  },
  {
   "cell_type": "code",
   "execution_count": null,
   "metadata": {},
   "outputs": [],
   "source": [
    "list_seq=[]\n",
    "for x in list_name:\n",
    "    ppdb = PandasPdb()\n",
    "    ppdb.read_pdb(x)\n",
    "    sequence = ppdb.amino3to1()\n",
    "    sequence = ''.join(sequence.loc[sequence['chain_id'] == 'B', 'residue_name'])\n",
    "    list_seq.append(sequence)\n",
    "    list_seq.sort(key=len)\n",
    "ofile = open(\"sequences_fasta.txt\", \"w\")\n",
    "\n",
    "for i in range(len(list_seq)):\n",
    "\n",
    "    ofile.write(\">\" + list_names[i] + \"\\n\" +list_seq[i] + \"\\n\")\n",
    "ofile.close()"
   ]
  }
 ],
 "metadata": {
  "kernelspec": {
   "display_name": "Python 3",
   "language": "python",
   "name": "python3"
  },
  "language_info": {
   "codemirror_mode": {
    "name": "ipython",
    "version": 3
   },
   "file_extension": ".py",
   "mimetype": "text/x-python",
   "name": "python",
   "nbconvert_exporter": "python",
   "pygments_lexer": "ipython3",
   "version": "3.8.3"
  }
 },
 "nbformat": 4,
 "nbformat_minor": 4
}
